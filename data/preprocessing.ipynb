{
 "cells": [
  {
   "cell_type": "code",
   "execution_count": 195,
   "metadata": {},
   "outputs": [],
   "source": [
    "import pandas as pd"
   ]
  },
  {
   "cell_type": "code",
   "execution_count": 196,
   "metadata": {},
   "outputs": [],
   "source": [
    "adp = pd.read_csv('adp.csv')"
   ]
  },
  {
   "cell_type": "code",
   "execution_count": 197,
   "metadata": {},
   "outputs": [],
   "source": [
    "adp['team'] = adp['player'].apply(lambda x: x.split('\\xa0')[-1])"
   ]
  },
  {
   "cell_type": "code",
   "execution_count": 198,
   "metadata": {},
   "outputs": [],
   "source": [
    "adp['player'] = adp['player'].apply(lambda x: ' '.join(x.split('\\xa0')[:-1]).upper())"
   ]
  },
  {
   "cell_type": "code",
   "execution_count": 199,
   "metadata": {},
   "outputs": [],
   "source": [
    "adp['player'] = adp['player'].apply(lambda x: x \\\n",
    "        .replace('ALEKSANDER BARKOV JR.', 'ALEKSANDER BARKOV') \\\n",
    "        .replace('MITCH MARNER', 'MITCHELL MARNER') \\\n",
    "        .replace('MACKENZIE BLACKWOOD-DUP', 'MACKENZIE BLACKWOOD') \\\n",
    "        .replace('MAXIME COMTOIS', 'MAX COMTOIS'))"
   ]
  },
  {
   "cell_type": "code",
   "execution_count": 200,
   "metadata": {},
   "outputs": [],
   "source": [
    "adp = adp[['yahoo', 'player']]\n",
    "adp.columns = ['ADP', 'Name']"
   ]
  },
  {
   "cell_type": "code",
   "execution_count": 201,
   "metadata": {},
   "outputs": [],
   "source": [
    "adp['ADP'] = pd.to_numeric(adp['ADP'], errors='coerce')"
   ]
  },
  {
   "cell_type": "code",
   "execution_count": 202,
   "metadata": {},
   "outputs": [
    {
     "name": "stderr",
     "output_type": "stream",
     "text": [
      "/home/lpang/miniconda3/lib/python3.7/site-packages/ipykernel_launcher.py:7: SettingWithCopyWarning: \n",
      "A value is trying to be set on a copy of a slice from a DataFrame\n",
      "\n",
      "See the caveats in the documentation: https://pandas.pydata.org/pandas-docs/stable/user_guide/indexing.html#returning-a-view-versus-a-copy\n",
      "  import sys\n"
     ]
    }
   ],
   "source": [
    "dfs = {}\n",
    "ss = ['goalies', 'peripherals', 'pp', 'skaters']\n",
    "ys = ['2122', '2021', '1920']\n",
    "for s in ss:\n",
    "    for y in ys:\n",
    "        df = pd.read_csv(f'{s}_{y}.csv')\n",
    "        df['Name'][(df['Name']=='SEBASTIAN AHO') & (df['Team']=='NYI')] = 'SEBASTIAN AHO NYI'\n",
    "        dfs[(s,y)] = df"
   ]
  },
  {
   "cell_type": "code",
   "execution_count": 203,
   "metadata": {},
   "outputs": [],
   "source": [
    "for y in ys:\n",
    "    df = dfs[('skaters',y)] \\\n",
    "        .merge(dfs[('peripherals',y)], how='outer', on='Name') \\\n",
    "        .merge(dfs[('pp',y)], how='outer', on='Name')\n",
    "    df = df[['Name', 'Pos_x', 'Age_x', 'Team_x', 'GP_x', 'G_x',\n",
    "            'A_x', 'PTS', 'GWG', 'TOI_x', 'SOG_x', 'Yrs', 'Hits',\n",
    "            'Blocks', 'PPG', 'PPP']]\n",
    "    df.columns = [x.replace('_x', '') for x in df.columns]\n",
    "    dfs[('merged',y)] = df\n",
    "    dfs[('goalies',y)] = dfs[('goalies',y)][['Name', 'Age', \n",
    "            'Team', 'GP', 'W', 'SO', 'SV', 'SV%', 'Yrs']]"
   ]
  },
  {
   "cell_type": "code",
   "execution_count": 204,
   "metadata": {},
   "outputs": [],
   "source": [
    "joins = ['Name', 'Age', 'Yrs']\n",
    "for s in ['goalies', 'merged']:\n",
    "    dfs[(s,'1920')].columns = [f'{x}_1920' if x not in joins else x for x in dfs[(s,'1920')].columns]\n",
    "    dfs[s,'merged'] = dfs[(s,'2122')] \\\n",
    "        .merge(dfs[(s,'2021')], how='left', on=joins, suffixes=('_2122','_2021')) \\\n",
    "        .merge(dfs[(s,'1920')], how='left', on=joins)"
   ]
  },
  {
   "cell_type": "code",
   "execution_count": 205,
   "metadata": {},
   "outputs": [],
   "source": [
    "merge = pd.concat([dfs['goalies','merged'],dfs['merged','merged']])"
   ]
  },
  {
   "cell_type": "code",
   "execution_count": 206,
   "metadata": {},
   "outputs": [],
   "source": [
    "merge = merge.merge(adp, on='Name', how='outer')"
   ]
  },
  {
   "cell_type": "code",
   "execution_count": 207,
   "metadata": {},
   "outputs": [],
   "source": [
    "merge['Pos'] = merge['Pos_2122'].apply(lambda x: 'D' if x == 'D' else 'F' if x in ['C', 'L', 'R'] else 'G')"
   ]
  },
  {
   "cell_type": "code",
   "execution_count": 208,
   "metadata": {},
   "outputs": [],
   "source": [
    "pl = pd.read_csv('placeholders.csv')\n",
    "merge = pd.concat([merge, pl])"
   ]
  },
  {
   "cell_type": "code",
   "execution_count": 209,
   "metadata": {},
   "outputs": [],
   "source": [
    "merge.to_csv('data.csv', index=False)"
   ]
  },
  {
   "cell_type": "code",
   "execution_count": 210,
   "metadata": {},
   "outputs": [
    {
     "name": "stdout",
     "output_type": "stream",
     "text": [
      "Series([], Name: Name, dtype: object)\n"
     ]
    }
   ],
   "source": [
    "print(merge[merge['Age'].isna()]['Name'])"
   ]
  },
  {
   "cell_type": "code",
   "execution_count": 211,
   "metadata": {},
   "outputs": [
    {
     "name": "stdout",
     "output_type": "stream",
     "text": [
      "1126\n"
     ]
    }
   ],
   "source": [
    "print(len(merge))"
   ]
  },
  {
   "cell_type": "code",
   "execution_count": 212,
   "metadata": {},
   "outputs": [
    {
     "data": {
      "text/plain": [
       "Index(['Name', 'Age', 'Team_2122', 'GP_2122', 'W_2122', 'SO_2122', 'SV_2122',\n",
       "       'SV%_2122', 'Yrs', 'Team_2021', 'GP_2021', 'W_2021', 'SO_2021',\n",
       "       'SV_2021', 'SV%_2021', 'Team_1920', 'GP_1920', 'W_1920', 'SO_1920',\n",
       "       'SV_1920', 'SV%_1920', 'Pos_2122', 'G_2122', 'A_2122', 'PTS_2122',\n",
       "       'GWG_2122', 'TOI_2122', 'SOG_2122', 'Hits_2122', 'Blocks_2122',\n",
       "       'PPG_2122', 'PPP_2122', 'Pos_2021', 'G_2021', 'A_2021', 'PTS_2021',\n",
       "       'GWG_2021', 'TOI_2021', 'SOG_2021', 'Hits_2021', 'Blocks_2021',\n",
       "       'PPG_2021', 'PPP_2021', 'Pos_1920', 'G_1920', 'A_1920', 'PTS_1920',\n",
       "       'GWG_1920', 'TOI_1920', 'SOG_1920', 'Hits_1920', 'Blocks_1920',\n",
       "       'PPG_1920', 'PPP_1920', 'ADP', 'Pos'],\n",
       "      dtype='object')"
      ]
     },
     "execution_count": 212,
     "metadata": {},
     "output_type": "execute_result"
    }
   ],
   "source": [
    "merge.columns"
   ]
  },
  {
   "cell_type": "code",
   "execution_count": 213,
   "metadata": {},
   "outputs": [
    {
     "data": {
      "text/html": [
       "<div>\n",
       "<style scoped>\n",
       "    .dataframe tbody tr th:only-of-type {\n",
       "        vertical-align: middle;\n",
       "    }\n",
       "\n",
       "    .dataframe tbody tr th {\n",
       "        vertical-align: top;\n",
       "    }\n",
       "\n",
       "    .dataframe thead th {\n",
       "        text-align: right;\n",
       "    }\n",
       "</style>\n",
       "<table border=\"1\" class=\"dataframe\">\n",
       "  <thead>\n",
       "    <tr style=\"text-align: right;\">\n",
       "      <th></th>\n",
       "      <th>SV%_2122</th>\n",
       "    </tr>\n",
       "  </thead>\n",
       "  <tbody>\n",
       "    <tr>\n",
       "      <th>count</th>\n",
       "      <td>120.000000</td>\n",
       "    </tr>\n",
       "    <tr>\n",
       "      <th>mean</th>\n",
       "      <td>0.890167</td>\n",
       "    </tr>\n",
       "    <tr>\n",
       "      <th>std</th>\n",
       "      <td>0.051292</td>\n",
       "    </tr>\n",
       "    <tr>\n",
       "      <th>min</th>\n",
       "      <td>0.571000</td>\n",
       "    </tr>\n",
       "    <tr>\n",
       "      <th>25%</th>\n",
       "      <td>0.886750</td>\n",
       "    </tr>\n",
       "    <tr>\n",
       "      <th>50%</th>\n",
       "      <td>0.903000</td>\n",
       "    </tr>\n",
       "    <tr>\n",
       "      <th>75%</th>\n",
       "      <td>0.914000</td>\n",
       "    </tr>\n",
       "    <tr>\n",
       "      <th>max</th>\n",
       "      <td>0.958000</td>\n",
       "    </tr>\n",
       "  </tbody>\n",
       "</table>\n",
       "</div>"
      ],
      "text/plain": [
       "         SV%_2122\n",
       "count  120.000000\n",
       "mean     0.890167\n",
       "std      0.051292\n",
       "min      0.571000\n",
       "25%      0.886750\n",
       "50%      0.903000\n",
       "75%      0.914000\n",
       "max      0.958000"
      ]
     },
     "execution_count": 213,
     "metadata": {},
     "output_type": "execute_result"
    }
   ],
   "source": [
    "merge[merge['Pos'] == 'G'][['SV%_2122']].describe()"
   ]
  },
  {
   "cell_type": "code",
   "execution_count": 214,
   "metadata": {},
   "outputs": [
    {
     "data": {
      "text/plain": [
       "Name            object\n",
       "Age              int64\n",
       "Team_2122       object\n",
       "GP_2122          int64\n",
       "W_2122         float64\n",
       "SO_2122        float64\n",
       "SV_2122        float64\n",
       "SV%_2122       float64\n",
       "Yrs            float64\n",
       "Team_2021       object\n",
       "GP_2021        float64\n",
       "W_2021         float64\n",
       "SO_2021        float64\n",
       "SV_2021        float64\n",
       "SV%_2021       float64\n",
       "Team_1920       object\n",
       "GP_1920        float64\n",
       "W_1920         float64\n",
       "SO_1920        float64\n",
       "SV_1920        float64\n",
       "SV%_1920       float64\n",
       "Pos_2122        object\n",
       "G_2122         float64\n",
       "A_2122         float64\n",
       "PTS_2122       float64\n",
       "GWG_2122       float64\n",
       "TOI_2122        object\n",
       "SOG_2122       float64\n",
       "Hits_2122      float64\n",
       "Blocks_2122    float64\n",
       "PPG_2122       float64\n",
       "PPP_2122       float64\n",
       "Pos_2021        object\n",
       "G_2021         float64\n",
       "A_2021         float64\n",
       "PTS_2021       float64\n",
       "GWG_2021       float64\n",
       "TOI_2021        object\n",
       "SOG_2021       float64\n",
       "Hits_2021      float64\n",
       "Blocks_2021    float64\n",
       "PPG_2021       float64\n",
       "PPP_2021       float64\n",
       "Pos_1920        object\n",
       "G_1920         float64\n",
       "A_1920         float64\n",
       "PTS_1920       float64\n",
       "GWG_1920       float64\n",
       "TOI_1920        object\n",
       "SOG_1920       float64\n",
       "Hits_1920      float64\n",
       "Blocks_1920    float64\n",
       "PPG_1920       float64\n",
       "PPP_1920       float64\n",
       "ADP            float64\n",
       "Pos             object\n",
       "dtype: object"
      ]
     },
     "execution_count": 214,
     "metadata": {},
     "output_type": "execute_result"
    }
   ],
   "source": [
    "merge.dtypes"
   ]
  },
  {
   "cell_type": "code",
   "execution_count": null,
   "metadata": {},
   "outputs": [],
   "source": []
  }
 ],
 "metadata": {
  "kernelspec": {
   "display_name": "Python [conda env:root] *",
   "language": "python",
   "name": "conda-root-py"
  },
  "language_info": {
   "codemirror_mode": {
    "name": "ipython",
    "version": 3
   },
   "file_extension": ".py",
   "mimetype": "text/x-python",
   "name": "python",
   "nbconvert_exporter": "python",
   "pygments_lexer": "ipython3",
   "version": "3.7.7"
  }
 },
 "nbformat": 4,
 "nbformat_minor": 4
}
