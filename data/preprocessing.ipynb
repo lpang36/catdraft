{
 "cells": [
  {
   "cell_type": "code",
   "execution_count": 1,
   "metadata": {},
   "outputs": [],
   "source": [
    "import pandas as pd"
   ]
  },
  {
   "cell_type": "code",
   "execution_count": 2,
   "metadata": {},
   "outputs": [],
   "source": [
    "adp = pd.read_csv('adp_2324.csv')"
   ]
  },
  {
   "cell_type": "code",
   "execution_count": 3,
   "metadata": {},
   "outputs": [],
   "source": [
    "#adp['team'] = adp['player'].apply(lambda x: x.split('\\xa0')[-1])"
   ]
  },
  {
   "cell_type": "code",
   "execution_count": 4,
   "metadata": {},
   "outputs": [],
   "source": [
    "#adp['player'] = adp['player'].apply(lambda x: ' '.join(x.split('\\xa0')[:-1]).upper())"
   ]
  },
  {
   "cell_type": "code",
   "execution_count": 3,
   "metadata": {},
   "outputs": [],
   "source": [
    "adp['player'] = adp['player'].apply(lambda x: x \\\n",
    "        .replace('ALEKSANDER BARKOV JR.', 'ALEKSANDER BARKOV') \\\n",
    "        .replace('MITCH MARNER', 'MITCHELL MARNER') \\\n",
    "        .replace('MACKENZIE BLACKWOOD-DUP', 'MACKENZIE BLACKWOOD') \\\n",
    "        .replace('MAXIME COMTOIS', 'MAX COMTOIS')) \\\n",
    "        .replace('JT MILLER', 'J.T. MILLER') \\\n",
    "        .replace('TJ OSHIE', 'T.J. OSHIE') \\\n",
    "        .replace('JT COMPHER', 'J.T. COMPHER') \\\n",
    "        .replace('TIM STUETZLE', 'TIM STUTZLE') \\\n",
    "        .replace('NICK PAUL', 'NICHOLAS PAUL')"
   ]
  },
  {
   "cell_type": "code",
   "execution_count": 4,
   "metadata": {},
   "outputs": [],
   "source": [
    "#adp = adp[['yahoo', 'player']]\n",
    "adp.columns = ['ADP', 'Name']"
   ]
  },
  {
   "cell_type": "code",
   "execution_count": 5,
   "metadata": {},
   "outputs": [],
   "source": [
    "adp['ADP'] = pd.to_numeric(adp['ADP'], errors='coerce')"
   ]
  },
  {
   "cell_type": "code",
   "execution_count": 20,
   "metadata": {},
   "outputs": [
    {
     "name": "stderr",
     "output_type": "stream",
     "text": [
      "/tmp/ipykernel_197/202203092.py:7: SettingWithCopyWarning: \n",
      "A value is trying to be set on a copy of a slice from a DataFrame\n",
      "\n",
      "See the caveats in the documentation: https://pandas.pydata.org/pandas-docs/stable/user_guide/indexing.html#returning-a-view-versus-a-copy\n",
      "  df['Name'][(df['Name']=='SEBASTIAN AHO') & (df['Team']=='NYI')] = 'SEBASTIAN AHO NYI'\n",
      "/tmp/ipykernel_197/202203092.py:7: SettingWithCopyWarning: \n",
      "A value is trying to be set on a copy of a slice from a DataFrame\n",
      "\n",
      "See the caveats in the documentation: https://pandas.pydata.org/pandas-docs/stable/user_guide/indexing.html#returning-a-view-versus-a-copy\n",
      "  df['Name'][(df['Name']=='SEBASTIAN AHO') & (df['Team']=='NYI')] = 'SEBASTIAN AHO NYI'\n",
      "/tmp/ipykernel_197/202203092.py:7: SettingWithCopyWarning: \n",
      "A value is trying to be set on a copy of a slice from a DataFrame\n",
      "\n",
      "See the caveats in the documentation: https://pandas.pydata.org/pandas-docs/stable/user_guide/indexing.html#returning-a-view-versus-a-copy\n",
      "  df['Name'][(df['Name']=='SEBASTIAN AHO') & (df['Team']=='NYI')] = 'SEBASTIAN AHO NYI'\n",
      "/tmp/ipykernel_197/202203092.py:7: SettingWithCopyWarning: \n",
      "A value is trying to be set on a copy of a slice from a DataFrame\n",
      "\n",
      "See the caveats in the documentation: https://pandas.pydata.org/pandas-docs/stable/user_guide/indexing.html#returning-a-view-versus-a-copy\n",
      "  df['Name'][(df['Name']=='SEBASTIAN AHO') & (df['Team']=='NYI')] = 'SEBASTIAN AHO NYI'\n",
      "/tmp/ipykernel_197/202203092.py:7: SettingWithCopyWarning: \n",
      "A value is trying to be set on a copy of a slice from a DataFrame\n",
      "\n",
      "See the caveats in the documentation: https://pandas.pydata.org/pandas-docs/stable/user_guide/indexing.html#returning-a-view-versus-a-copy\n",
      "  df['Name'][(df['Name']=='SEBASTIAN AHO') & (df['Team']=='NYI')] = 'SEBASTIAN AHO NYI'\n",
      "/tmp/ipykernel_197/202203092.py:7: SettingWithCopyWarning: \n",
      "A value is trying to be set on a copy of a slice from a DataFrame\n",
      "\n",
      "See the caveats in the documentation: https://pandas.pydata.org/pandas-docs/stable/user_guide/indexing.html#returning-a-view-versus-a-copy\n",
      "  df['Name'][(df['Name']=='SEBASTIAN AHO') & (df['Team']=='NYI')] = 'SEBASTIAN AHO NYI'\n",
      "/tmp/ipykernel_197/202203092.py:7: SettingWithCopyWarning: \n",
      "A value is trying to be set on a copy of a slice from a DataFrame\n",
      "\n",
      "See the caveats in the documentation: https://pandas.pydata.org/pandas-docs/stable/user_guide/indexing.html#returning-a-view-versus-a-copy\n",
      "  df['Name'][(df['Name']=='SEBASTIAN AHO') & (df['Team']=='NYI')] = 'SEBASTIAN AHO NYI'\n",
      "/tmp/ipykernel_197/202203092.py:7: SettingWithCopyWarning: \n",
      "A value is trying to be set on a copy of a slice from a DataFrame\n",
      "\n",
      "See the caveats in the documentation: https://pandas.pydata.org/pandas-docs/stable/user_guide/indexing.html#returning-a-view-versus-a-copy\n",
      "  df['Name'][(df['Name']=='SEBASTIAN AHO') & (df['Team']=='NYI')] = 'SEBASTIAN AHO NYI'\n",
      "/tmp/ipykernel_197/202203092.py:7: SettingWithCopyWarning: \n",
      "A value is trying to be set on a copy of a slice from a DataFrame\n",
      "\n",
      "See the caveats in the documentation: https://pandas.pydata.org/pandas-docs/stable/user_guide/indexing.html#returning-a-view-versus-a-copy\n",
      "  df['Name'][(df['Name']=='SEBASTIAN AHO') & (df['Team']=='NYI')] = 'SEBASTIAN AHO NYI'\n",
      "/tmp/ipykernel_197/202203092.py:7: SettingWithCopyWarning: \n",
      "A value is trying to be set on a copy of a slice from a DataFrame\n",
      "\n",
      "See the caveats in the documentation: https://pandas.pydata.org/pandas-docs/stable/user_guide/indexing.html#returning-a-view-versus-a-copy\n",
      "  df['Name'][(df['Name']=='SEBASTIAN AHO') & (df['Team']=='NYI')] = 'SEBASTIAN AHO NYI'\n",
      "/tmp/ipykernel_197/202203092.py:7: SettingWithCopyWarning: \n",
      "A value is trying to be set on a copy of a slice from a DataFrame\n",
      "\n",
      "See the caveats in the documentation: https://pandas.pydata.org/pandas-docs/stable/user_guide/indexing.html#returning-a-view-versus-a-copy\n",
      "  df['Name'][(df['Name']=='SEBASTIAN AHO') & (df['Team']=='NYI')] = 'SEBASTIAN AHO NYI'\n",
      "/tmp/ipykernel_197/202203092.py:7: SettingWithCopyWarning: \n",
      "A value is trying to be set on a copy of a slice from a DataFrame\n",
      "\n",
      "See the caveats in the documentation: https://pandas.pydata.org/pandas-docs/stable/user_guide/indexing.html#returning-a-view-versus-a-copy\n",
      "  df['Name'][(df['Name']=='SEBASTIAN AHO') & (df['Team']=='NYI')] = 'SEBASTIAN AHO NYI'\n"
     ]
    }
   ],
   "source": [
    "dfs = {}\n",
    "ss = ['goalies', 'peripherals', 'pp', 'skaters']\n",
    "ys = ['2223', '2122', '2021']\n",
    "for s in ss:\n",
    "    for y in ys:\n",
    "        df = pd.read_csv(f'{s}_{y}.csv')\n",
    "        df['Name'][(df['Name']=='SEBASTIAN AHO') & (df['Team']=='NYI')] = 'SEBASTIAN AHO NYI'\n",
    "        dfs[(s,y)] = df"
   ]
  },
  {
   "cell_type": "code",
   "execution_count": 21,
   "metadata": {},
   "outputs": [],
   "source": [
    "for y in ys:\n",
    "    df = dfs[('skaters',y)] \\\n",
    "        .merge(dfs[('peripherals',y)], how='outer', on='Name') \\\n",
    "        .merge(dfs[('pp',y)], how='outer', on='Name')\n",
    "    df = df[['Name', 'Pos_x', 'Age_x', 'Team_x', 'GP_x', 'G_x',\n",
    "            'A_x', 'PTS', 'GWG', 'TOI_x', 'SOG_x', 'Yrs', 'Hits',\n",
    "            'Blocks', 'PPG', 'PPP']]\n",
    "    df.columns = [x.replace('_x', '') for x in df.columns]\n",
    "    dfs[('merged',y)] = df\n",
    "    dfs[('goalies',y)] = dfs[('goalies',y)][['Name', 'Age', \n",
    "            'Team', 'GP', 'W', 'SO', 'SV', 'SV%', 'Yrs']]"
   ]
  },
  {
   "cell_type": "code",
   "execution_count": 22,
   "metadata": {},
   "outputs": [],
   "source": [
    "joins = ['Name']\n",
    "for s in ['goalies', 'merged']:\n",
    "    dfs[(s,'2021')].columns = [f'{x}_2021' if x not in joins else x for x in dfs[(s,'2021')].columns]\n",
    "    dfs[s,'merged'] = dfs[(s,'2223')] \\\n",
    "        .merge(dfs[(s,'2122')], how='left', on=joins, suffixes=('_2223','_2122')) \\\n",
    "        .merge(dfs[(s,'2021')], how='left', on=joins)"
   ]
  },
  {
   "cell_type": "code",
   "execution_count": 24,
   "metadata": {},
   "outputs": [],
   "source": [
    "merge = pd.concat([dfs['goalies','merged'],dfs['merged','merged']])"
   ]
  },
  {
   "cell_type": "code",
   "execution_count": 25,
   "metadata": {},
   "outputs": [],
   "source": [
    "merge = merge.merge(adp, on='Name', how='outer')"
   ]
  },
  {
   "cell_type": "code",
   "execution_count": 26,
   "metadata": {},
   "outputs": [],
   "source": [
    "merge['Pos'] = merge['Pos_2223'].apply(lambda x: 'D' if x == 'D' else 'F' if x in ['C', 'L', 'R'] else 'G')"
   ]
  },
  {
   "cell_type": "code",
   "execution_count": 27,
   "metadata": {},
   "outputs": [],
   "source": [
    "pl = pd.read_csv('placeholders.csv')\n",
    "merge = pd.concat([merge, pl])"
   ]
  },
  {
   "cell_type": "code",
   "execution_count": 44,
   "metadata": {},
   "outputs": [],
   "source": [
    "merge['Age'] = merge['Age_2223']\n",
    "merge = merge.drop(columns=['Age_2223', 'Age_2122', 'Age_2021'])"
   ]
  },
  {
   "cell_type": "code",
   "execution_count": 56,
   "metadata": {},
   "outputs": [],
   "source": [
    "merge.to_csv('data.csv', index=False)"
   ]
  },
  {
   "cell_type": "code",
   "execution_count": 57,
   "metadata": {},
   "outputs": [
    {
     "name": "stdout",
     "output_type": "stream",
     "text": [
      "0    PLACEHOLDER_G\n",
      "1    PLACEHOLDER_F\n",
      "2    PLACEHOLDER_D\n",
      "Name: Name, dtype: object\n"
     ]
    }
   ],
   "source": [
    "print(merge[merge['Age'].isna()]['Name'])"
   ]
  },
  {
   "cell_type": "code",
   "execution_count": 55,
   "metadata": {},
   "outputs": [],
   "source": [
    "merge.loc[merge['Name'] == 'CONNOR BEDARD', 'Age'] = 18\n",
    "merge.loc[merge['Name'] == 'SEAN COUTURIER', 'Age'] = 30\n",
    "merge.loc[merge['Name'] == 'LOGAN COOLEY', 'Age'] = 19\n",
    "merge.loc[merge['Name'] == 'ADAM FANTILLI', 'Age'] = 18\n",
    "merge.loc[merge['Name'] == 'FABIAN LYSELL', 'Age'] = 20"
   ]
  },
  {
   "cell_type": "code",
   "execution_count": 31,
   "metadata": {},
   "outputs": [
    {
     "name": "stdout",
     "output_type": "stream",
     "text": [
      "1066\n"
     ]
    }
   ],
   "source": [
    "print(len(merge))"
   ]
  },
  {
   "cell_type": "code",
   "execution_count": 46,
   "metadata": {},
   "outputs": [
    {
     "data": {
      "text/plain": [
       "Index(['Name', 'Team_2223', 'GP_2223', 'W_2223', 'SO_2223', 'SV_2223',\n",
       "       'SV%_2223', 'Yrs_2223', 'Team_2122', 'GP_2122', 'W_2122', 'SO_2122',\n",
       "       'SV_2122', 'SV%_2122', 'Yrs_2122', 'Team_2021', 'GP_2021', 'W_2021',\n",
       "       'SO_2021', 'SV_2021', 'SV%_2021', 'Yrs_2021', 'Pos_2223', 'G_2223',\n",
       "       'A_2223', 'PTS_2223', 'GWG_2223', 'TOI_2223', 'SOG_2223', 'Hits_2223',\n",
       "       'Blocks_2223', 'PPG_2223', 'PPP_2223', 'Pos_2122', 'G_2122', 'A_2122',\n",
       "       'PTS_2122', 'GWG_2122', 'TOI_2122', 'SOG_2122', 'Hits_2122',\n",
       "       'Blocks_2122', 'PPG_2122', 'PPP_2122', 'Pos_2021', 'G_2021', 'A_2021',\n",
       "       'PTS_2021', 'GWG_2021', 'TOI_2021', 'SOG_2021', 'Hits_2021',\n",
       "       'Blocks_2021', 'PPG_2021', 'PPP_2021', 'ADP', 'Pos', 'Age'],\n",
       "      dtype='object')"
      ]
     },
     "execution_count": 46,
     "metadata": {},
     "output_type": "execute_result"
    }
   ],
   "source": [
    "merge.columns"
   ]
  },
  {
   "cell_type": "code",
   "execution_count": 35,
   "metadata": {},
   "outputs": [
    {
     "data": {
      "text/html": [
       "<div>\n",
       "<style scoped>\n",
       "    .dataframe tbody tr th:only-of-type {\n",
       "        vertical-align: middle;\n",
       "    }\n",
       "\n",
       "    .dataframe tbody tr th {\n",
       "        vertical-align: top;\n",
       "    }\n",
       "\n",
       "    .dataframe thead th {\n",
       "        text-align: right;\n",
       "    }\n",
       "</style>\n",
       "<table border=\"1\" class=\"dataframe\">\n",
       "  <thead>\n",
       "    <tr style=\"text-align: right;\">\n",
       "      <th></th>\n",
       "      <th>GP_2223</th>\n",
       "      <th>SV%_2223</th>\n",
       "      <th>W_2223</th>\n",
       "      <th>SO_2223</th>\n",
       "      <th>SV_2223</th>\n",
       "    </tr>\n",
       "  </thead>\n",
       "  <tbody>\n",
       "    <tr>\n",
       "      <th>count</th>\n",
       "      <td>108.000000</td>\n",
       "      <td>108.000000</td>\n",
       "      <td>108.000000</td>\n",
       "      <td>108.000000</td>\n",
       "      <td>108.000000</td>\n",
       "    </tr>\n",
       "    <tr>\n",
       "      <th>mean</th>\n",
       "      <td>26.157407</td>\n",
       "      <td>0.894231</td>\n",
       "      <td>12.314815</td>\n",
       "      <td>1.083333</td>\n",
       "      <td>692.472222</td>\n",
       "    </tr>\n",
       "    <tr>\n",
       "      <th>std</th>\n",
       "      <td>19.113122</td>\n",
       "      <td>0.090117</td>\n",
       "      <td>10.666261</td>\n",
       "      <td>1.454127</td>\n",
       "      <td>528.266314</td>\n",
       "    </tr>\n",
       "    <tr>\n",
       "      <th>min</th>\n",
       "      <td>1.000000</td>\n",
       "      <td>0.000000</td>\n",
       "      <td>0.000000</td>\n",
       "      <td>0.000000</td>\n",
       "      <td>0.000000</td>\n",
       "    </tr>\n",
       "    <tr>\n",
       "      <th>25%</th>\n",
       "      <td>7.000000</td>\n",
       "      <td>0.892000</td>\n",
       "      <td>3.000000</td>\n",
       "      <td>0.000000</td>\n",
       "      <td>205.500000</td>\n",
       "    </tr>\n",
       "    <tr>\n",
       "      <th>50%</th>\n",
       "      <td>23.500000</td>\n",
       "      <td>0.902500</td>\n",
       "      <td>9.500000</td>\n",
       "      <td>0.500000</td>\n",
       "      <td>604.500000</td>\n",
       "    </tr>\n",
       "    <tr>\n",
       "      <th>75%</th>\n",
       "      <td>39.250000</td>\n",
       "      <td>0.915000</td>\n",
       "      <td>18.250000</td>\n",
       "      <td>2.000000</td>\n",
       "      <td>1048.250000</td>\n",
       "    </tr>\n",
       "    <tr>\n",
       "      <th>max</th>\n",
       "      <td>64.000000</td>\n",
       "      <td>1.000000</td>\n",
       "      <td>40.000000</td>\n",
       "      <td>6.000000</td>\n",
       "      <td>1928.000000</td>\n",
       "    </tr>\n",
       "  </tbody>\n",
       "</table>\n",
       "</div>"
      ],
      "text/plain": [
       "          GP_2223    SV%_2223      W_2223     SO_2223      SV_2223\n",
       "count  108.000000  108.000000  108.000000  108.000000   108.000000\n",
       "mean    26.157407    0.894231   12.314815    1.083333   692.472222\n",
       "std     19.113122    0.090117   10.666261    1.454127   528.266314\n",
       "min      1.000000    0.000000    0.000000    0.000000     0.000000\n",
       "25%      7.000000    0.892000    3.000000    0.000000   205.500000\n",
       "50%     23.500000    0.902500    9.500000    0.500000   604.500000\n",
       "75%     39.250000    0.915000   18.250000    2.000000  1048.250000\n",
       "max     64.000000    1.000000   40.000000    6.000000  1928.000000"
      ]
     },
     "execution_count": 35,
     "metadata": {},
     "output_type": "execute_result"
    }
   ],
   "source": [
    "merge[merge['Pos'] == 'G'][['GP_2223', 'SV%_2223', 'W_2223', 'SO_2223', 'SV_2223']].describe()"
   ]
  },
  {
   "cell_type": "code",
   "execution_count": 47,
   "metadata": {},
   "outputs": [
    {
     "data": {
      "text/plain": [
       "Name            object\n",
       "Team_2223       object\n",
       "GP_2223        float64\n",
       "W_2223         float64\n",
       "SO_2223        float64\n",
       "SV_2223        float64\n",
       "SV%_2223       float64\n",
       "Yrs_2223       float64\n",
       "Team_2122       object\n",
       "GP_2122        float64\n",
       "W_2122         float64\n",
       "SO_2122        float64\n",
       "SV_2122        float64\n",
       "SV%_2122       float64\n",
       "Yrs_2122       float64\n",
       "Team_2021       object\n",
       "GP_2021        float64\n",
       "W_2021         float64\n",
       "SO_2021        float64\n",
       "SV_2021        float64\n",
       "SV%_2021       float64\n",
       "Yrs_2021       float64\n",
       "Pos_2223        object\n",
       "G_2223         float64\n",
       "A_2223         float64\n",
       "PTS_2223       float64\n",
       "GWG_2223       float64\n",
       "TOI_2223        object\n",
       "SOG_2223       float64\n",
       "Hits_2223      float64\n",
       "Blocks_2223    float64\n",
       "PPG_2223       float64\n",
       "PPP_2223       float64\n",
       "Pos_2122        object\n",
       "G_2122         float64\n",
       "A_2122         float64\n",
       "PTS_2122       float64\n",
       "GWG_2122       float64\n",
       "TOI_2122        object\n",
       "SOG_2122       float64\n",
       "Hits_2122      float64\n",
       "Blocks_2122    float64\n",
       "PPG_2122       float64\n",
       "PPP_2122       float64\n",
       "Pos_2021        object\n",
       "G_2021         float64\n",
       "A_2021         float64\n",
       "PTS_2021       float64\n",
       "GWG_2021       float64\n",
       "TOI_2021        object\n",
       "SOG_2021       float64\n",
       "Hits_2021      float64\n",
       "Blocks_2021    float64\n",
       "PPG_2021       float64\n",
       "PPP_2021       float64\n",
       "ADP            float64\n",
       "Pos             object\n",
       "Age            float64\n",
       "dtype: object"
      ]
     },
     "execution_count": 47,
     "metadata": {},
     "output_type": "execute_result"
    }
   ],
   "source": [
    "merge.dtypes"
   ]
  },
  {
   "cell_type": "code",
   "execution_count": null,
   "metadata": {},
   "outputs": [],
   "source": []
  }
 ],
 "metadata": {
  "kernelspec": {
   "display_name": "Python 3 (ipykernel)",
   "language": "python",
   "name": "python3"
  },
  "language_info": {
   "codemirror_mode": {
    "name": "ipython",
    "version": 3
   },
   "file_extension": ".py",
   "mimetype": "text/x-python",
   "name": "python",
   "nbconvert_exporter": "python",
   "pygments_lexer": "ipython3",
   "version": "3.8.10"
  }
 },
 "nbformat": 4,
 "nbformat_minor": 4
}
